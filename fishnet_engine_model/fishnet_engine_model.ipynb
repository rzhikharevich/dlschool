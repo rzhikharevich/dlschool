{
 "cells": [
  {
   "cell_type": "code",
   "execution_count": null,
   "metadata": {
    "colab": {
     "base_uri": "https://localhost:8080/",
     "height": 34
    },
    "colab_type": "code",
    "id": "KPOUQq0yrdZS",
    "outputId": "bd3d8b9f-a234-4f99-e990-1738469a9d3b"
   },
   "outputs": [],
   "source": [
    "import os\n",
    "from io import StringIO\n",
    "\n",
    "import numpy as np\n",
    "\n",
    "from sklearn.model_selection import train_test_split\n",
    "from sklearn.utils import shuffle\n",
    "\n",
    "import chess\n",
    "from chess import pgn\n",
    "from chess import Board, Piece\n",
    "\n",
    "import keras\n",
    "from keras import Model\n",
    "from keras.models import load_model\n",
    "from keras.callbacks import ModelCheckpoint\n",
    "from keras.layers import Input, Flatten, Dense, Activation\n",
    "from keras.layers import Conv2D, MaxPooling2D, ZeroPadding2D\n",
    "from keras.layers import GlobalAveragePooling2D\n",
    "from keras.layers import Add, Multiply, Concatenate\n",
    "from keras.layers import Dropout\n",
    "from keras.layers import BatchNormalization as BatchNorm"
   ]
  },
  {
   "cell_type": "code",
   "execution_count": null,
   "metadata": {
    "colab": {
     "base_uri": "https://localhost:8080/",
     "height": 189
    },
    "colab_type": "code",
    "id": "oGyXH00arfIN",
    "outputId": "2c8664d5-c089-458d-bdbc-4622e4f16a6b"
   },
   "outputs": [],
   "source": [
    "from google.colab import drive\n",
    "drive.mount(\"/content/drive\")\n",
    "\n",
    "os.chdir(\"/content/drive/My Drive/fishnet\")"
   ]
  },
  {
   "cell_type": "code",
   "execution_count": null,
   "metadata": {
    "colab": {},
    "colab_type": "code",
    "id": "lUciBik9rdZc"
   },
   "outputs": [],
   "source": [
    "board_h = 8\n",
    "board_w = 8\n",
    "board_size = board_h * board_w\n",
    "board_shape = (board_h, board_w)\n",
    "\n",
    "pieces = [\n",
    "    chess.ROOK, \n",
    "    chess.KNIGHT,\n",
    "    chess.BISHOP, \n",
    "    chess.QUEEN,\n",
    "    chess.KING,\n",
    "    chess.PAWN\n",
    "]\n",
    "\n",
    "assert set(pieces) == set(range(1, 7))"
   ]
  },
  {
   "cell_type": "code",
   "execution_count": null,
   "metadata": {
    "colab": {},
    "colab_type": "code",
    "id": "Dh_Oa6pkrdZg"
   },
   "outputs": [],
   "source": [
    "def np_board_to_chess(b):\n",
    "    board = chess.Board(\"8/8/8/8/8/8/8/8 w - -\")\n",
    "    \n",
    "    for i in range(len(b)):\n",
    "        if b[i] == 0:\n",
    "            continue\n",
    "        \n",
    "        piece = chess.Piece(abs(b[i]), b[i] > 0)\n",
    "\n",
    "        board.set_piece_at(i, piece)\n",
    "    \n",
    "    return board\n",
    "\n",
    "\n",
    "def decompose_index(idx, d, k):\n",
    "    ret = np.zeros(k, dtype=np.int8)\n",
    "    \n",
    "    for i in range(k - 1, 0, -1):\n",
    "        idx, comp = divmod(idx, d)\n",
    "        ret[i] = comp\n",
    "    \n",
    "    ret[0] = idx\n",
    "    \n",
    "    return ret\n",
    "\n",
    "\n",
    "class Vector:\n",
    "    def __init__(self, elem_shape, dtype):\n",
    "        self.data = np.zeros((0,) + elem_shape, dtype=dtype)\n",
    "        self.size = 0\n",
    "        self.dtype = dtype\n",
    "    \n",
    "    def _resize_data(self, cap):\n",
    "        old_data = self.data\n",
    "        self.data = np.zeros((cap,) + old_data.shape[1:], dtype=self.dtype)\n",
    "        self.data[:old_data.shape[0]] = old_data\n",
    "    \n",
    "    def new_element(self):\n",
    "        cap = len(self.data)\n",
    "        \n",
    "        if self.size == cap:\n",
    "            if cap == 0:\n",
    "                self._resize_data(1)\n",
    "            else:\n",
    "                self._resize_data(2 * cap)\n",
    "        \n",
    "        ret = self.data[self.size:self.size+1]\n",
    "        self.size += 1\n",
    "        \n",
    "        return ret\n",
    "\n",
    "    def shrink(self):\n",
    "        self.data = self.data[:self.size].copy()\n",
    "    \n",
    "    def to_array(self):\n",
    "        self.shrink()\n",
    "        return self.data"
   ]
  },
  {
   "cell_type": "code",
   "execution_count": null,
   "metadata": {
    "colab": {},
    "colab_type": "code",
    "id": "wNqYzcmArdZk"
   },
   "outputs": [],
   "source": [
    "dataset_x = Vector((board_size,), np.int8)\n",
    "dataset_y = Vector((), np.int16)\n",
    "\n",
    "with open(\"best_games.txt\") as f:\n",
    "    for line_idx, line in enumerate(f):\n",
    "        if line_idx % 50 == 0:\n",
    "            print(line_idx, end=\"\\r\")\n",
    "\n",
    "        game = pgn.read_game(StringIO(line))\n",
    "\n",
    "        board = game.board()\n",
    "\n",
    "        for move_idx, move in enumerate(game.mainline_moves()):\n",
    "            if move_idx % 2 == 1:\n",
    "                board_view = board.mirror()\n",
    "                src = chess.square_mirror(move.from_square)\n",
    "                dst = chess.square_mirror(move.to_square)\n",
    "            else:\n",
    "                board_view = board\n",
    "                src = move.from_square\n",
    "                dst = move.to_square\n",
    "\n",
    "            b = dataset_x.new_element()[0]\n",
    "\n",
    "            for i, piece in board_view.piece_map().items():\n",
    "                if piece.color == chess.WHITE:\n",
    "                    b[i] = piece.piece_type\n",
    "                else:\n",
    "                    b[i] = piece.piece_type * -1\n",
    "\n",
    "            dataset_y.new_element()[0] = src * board_size + dst\n",
    "\n",
    "            board.push(move)\n",
    "\n",
    "print()\n",
    "\n",
    "dataset_x = dataset_x.to_array()\n",
    "dataset_y = dataset_y.to_array()"
   ]
  },
  {
   "cell_type": "code",
   "execution_count": null,
   "metadata": {
    "colab": {},
    "colab_type": "code",
    "id": "fIeiETBirdZo"
   },
   "outputs": [],
   "source": [
    "def save_array(name):\n",
    "    np.save(f\"{name}.npy\", globals()[name])\n",
    "\n",
    "\n",
    "def save_arrays(*args):\n",
    "    for arg in args:\n",
    "        save_array(arg)\n",
    "\n",
    "        \n",
    "def load_array(name):\n",
    "    globals()[name] = np.load(f\"{name}.npy\")\n",
    "\n",
    "    \n",
    "def load_arrays(*args):\n",
    "    for arg in args:\n",
    "        load_array(arg)"
   ]
  },
  {
   "cell_type": "code",
   "execution_count": null,
   "metadata": {
    "colab": {},
    "colab_type": "code",
    "id": "bUJxdGqmrdZs"
   },
   "outputs": [],
   "source": [
    "train_x, test_x, train_y, test_y = train_test_split(dataset_x, dataset_y, test_size=0.1)"
   ]
  },
  {
   "cell_type": "code",
   "execution_count": null,
   "metadata": {
    "colab": {},
    "colab_type": "code",
    "id": "8iFpImesrdZu"
   },
   "outputs": [],
   "source": [
    "save_arrays(\"train_x\", \"test_x\", \"train_y\", \"test_y\")"
   ]
  },
  {
   "cell_type": "code",
   "execution_count": null,
   "metadata": {
    "colab": {},
    "colab_type": "code",
    "id": "hIOAWKcDrdZx"
   },
   "outputs": [],
   "source": [
    "load_arrays(\"train_x\", \"test_x\", \"train_y\", \"test_y\")"
   ]
  },
  {
   "cell_type": "code",
   "execution_count": null,
   "metadata": {
    "colab": {},
    "colab_type": "code",
    "id": "NEk47ZohrdZ0"
   },
   "outputs": [],
   "source": [
    "def generate_batches(x, y, batch_size):\n",
    "    X_flat_shape = (batch_size, board_size, len(pieces))\n",
    "    X_shape = (batch_size,) + board_shape + (len(pieces),)\n",
    "    \n",
    "    Y_shape = (batch_size, board_size**2)\n",
    "    \n",
    "    while True:\n",
    "        x, y = shuffle(x, y)\n",
    "        \n",
    "        for i in range(0, len(x), batch_size):\n",
    "            j = min(len(x), i + batch_size)\n",
    "\n",
    "            X = np.zeros(X_flat_shape, dtype=np.float32)\n",
    "\n",
    "            for k, board in enumerate(x[i:j]):\n",
    "                for pos, piece in enumerate(board):\n",
    "                    if piece > 0:\n",
    "                        X[k, pos, piece - 1] = 1\n",
    "                    elif piece < 0:\n",
    "                        X[k, pos, -piece - 1] = -1\n",
    "\n",
    "            Y = np.zeros(Y_shape, dtype=np.float32)\n",
    "            \n",
    "            for k, move in enumerate(y[i:j]):\n",
    "                Y[k, move] = 1\n",
    "\n",
    "            yield X.reshape(X_shape), Y"
   ]
  },
  {
   "cell_type": "code",
   "execution_count": null,
   "metadata": {
    "colab": {},
    "colab_type": "code",
    "id": "vEN_SHoSrdZ6"
   },
   "outputs": [],
   "source": [
    "batch_size = 256\n",
    "n_epochs = 10"
   ]
  },
  {
   "cell_type": "code",
   "execution_count": null,
   "metadata": {
    "colab": {
     "base_uri": "https://localhost:8080/",
     "height": 1000
    },
    "colab_type": "code",
    "id": "O43keCuardZ8",
    "outputId": "0ea1b690-9d76-4ee7-bf2b-d34e78b2d0d4"
   },
   "outputs": [],
   "source": [
    "act = \"elu\"\n",
    "\n",
    "model_input = Input(shape=board_shape + (len(pieces),))\n",
    "model = model_input\n",
    "\n",
    "def conv_block(x, n_channels):\n",
    "    x = Conv2D(n_channels, 3, padding=\"same\", activation=act)(x)\n",
    "    x = BatchNorm()(x)\n",
    "    return x\n",
    "\n",
    "def dense_block(x, n_layers, n_channels, growth):\n",
    "    xs = [x]\n",
    "    \n",
    "    for i in range(n_layers):\n",
    "        cb = conv_block(x, growth)\n",
    "        xs.append(cb)\n",
    "        x = Concatenate()(xs)\n",
    "        n_channels += growth\n",
    "\n",
    "    return x, n_channels\n",
    "\n",
    "def transition_block(x, n_channels):\n",
    "    x = Conv2D(n_channels, 1, activation=act)(x)\n",
    "    x = BatchNorm()(x)\n",
    "    return x\n",
    "\n",
    "def se_block(x, n_channels):\n",
    "    w = x\n",
    "    w = GlobalAveragePooling2D()(w)\n",
    "    w = Dense(n_channels // 16, activation=act)(w)\n",
    "    w = Dense(n_channels, activation=\"sigmoid\")(w)\n",
    "    \n",
    "    return Multiply()([x, w])\n",
    "\n",
    "n_channels = 32\n",
    "max_channels = 32\n",
    "n_dense_blocks = 3\n",
    "n_layers_per_dense_block = 12\n",
    "\n",
    "model = conv_block(model, n_channels)\n",
    "\n",
    "for i in range(n_dense_blocks):\n",
    "    model, n_channels = dense_block(model, n_layers_per_dense_block, n_channels, 12)\n",
    "    \n",
    "    model = se_block(model, n_channels)\n",
    "    \n",
    "    if n_channels > max_channels and i < n_dense_blocks - 1:\n",
    "        n_channels //= 2\n",
    "        model = transition_block(model, n_channels)\n",
    "    \n",
    "model = GlobalAveragePooling2D()(model)\n",
    "\n",
    "\n",
    "model = Dense(board_size**2, activation=\"softmax\")(model)\n",
    "model = Model(inputs=model_input, outputs=model)\n",
    "\n",
    "opt = \"adam\"\n",
    "\n",
    "model.compile(\n",
    "    optimizer=opt,\n",
    "    loss=\"categorical_crossentropy\",\n",
    "    metrics=[\"categorical_accuracy\", \"top_k_categorical_accuracy\"]\n",
    ")\n",
    "\n",
    "model.summary()"
   ]
  },
  {
   "cell_type": "code",
   "execution_count": null,
   "metadata": {
    "colab": {
     "base_uri": "https://localhost:8080/",
     "height": 1000
    },
    "colab_type": "code",
    "id": "rJFmGbEBrdaA",
    "outputId": "92cb9494-dc1c-4390-dc49-01f09c268eee"
   },
   "outputs": [],
   "source": [
    "mcp_save = ModelCheckpoint(\n",
    "    \"model.hdf5\", \n",
    "    verbose=1,\n",
    "    save_best_only=True\n",
    ")\n",
    "\n",
    "model.fit_generator(\n",
    "    generate_batches(train_x, train_y, batch_size),\n",
    "    validation_data=generate_batches(test_x, test_y, batch_size),\n",
    "    steps_per_epoch = (len(train_x) + batch_size - 1) // batch_size,\n",
    "    validation_steps = (len(test_x) + batch_size - 1) // batch_size,\n",
    "    epochs=n_epochs,\n",
    "    callbacks=[mcp_save]\n",
    ")"
   ]
  },
  {
   "cell_type": "code",
   "execution_count": null,
   "metadata": {
    "colab": {},
    "colab_type": "code",
    "id": "yQmbzCzu_e75"
   },
   "outputs": [],
   "source": [
    "model = load_model(\"model.hdf5\")"
   ]
  },
  {
   "cell_type": "code",
   "execution_count": null,
   "metadata": {
    "colab": {
     "base_uri": "https://localhost:8080/",
     "height": 8551
    },
    "colab_type": "code",
    "id": "EU3sjiaLADHq",
    "outputId": "df5f42bf-882d-4753-ec70-5c5ee29c6992"
   },
   "outputs": [],
   "source": [
    "model.summary()"
   ]
  }
 ],
 "metadata": {
  "accelerator": "GPU",
  "colab": {
   "collapsed_sections": [],
   "name": "fishnet-engine-model-old.ipynb",
   "provenance": [],
   "version": "0.3.2"
  },
  "kernelspec": {
   "display_name": "Python 3",
   "language": "python",
   "name": "python3"
  },
  "language_info": {
   "codemirror_mode": {
    "name": "ipython",
    "version": 3
   },
   "file_extension": ".py",
   "mimetype": "text/x-python",
   "name": "python",
   "nbconvert_exporter": "python",
   "pygments_lexer": "ipython3",
   "version": "3.7.4"
  }
 },
 "nbformat": 4,
 "nbformat_minor": 1
}
